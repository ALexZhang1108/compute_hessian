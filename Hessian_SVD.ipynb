{
 "cells": [
  {
   "cell_type": "markdown",
   "metadata": {},
   "source": [
    "# Hessian矩阵计算与SVD分解\n",
    "\n",
    "本notebook实现两个主要步骤：\n",
    "1. 计算训练好的MLP模型的Hessian矩阵\n",
    "2. 通过SVD分解计算Hessian矩阵的特征值"
   ]
  },
  {
   "cell_type": "code",
   "execution_count": null,
   "metadata": {},
   "outputs": [],
   "source": [
    "import torch\n",
    "import torch.nn as nn\n",
    "import numpy as np\n",
    "import time\n",
    "from torchvision import datasets, transforms\n",
    "from torch.utils.data import DataLoader\n",
    "import os\n",
    "import matplotlib.pyplot as plt\n",
    "\n",
    "# 设置随机种子\n",
    "torch.manual_seed(0)\n",
    "torch.cuda.manual_seed_all(0)\n",
    "np.random.seed(0)"
   ]
  },
  {
   "cell_type": "markdown",
   "metadata": {},
   "source": [
    "## 1. 定义MLP模型"
   ]
  },
  {
   "cell_type": "code",
   "execution_count": null,
   "metadata": {},
   "outputs": [],
   "source": [
    "class MLP(nn.Module):\n",
    "    def __init__(self, input_size, hidden_size, output_size):\n",
    "        super(MLP, self).__init__()\n",
    "        self.fc1 = nn.Linear(input_size, hidden_size, bias=False)\n",
    "        self.relu = nn.ReLU()\n",
    "        self.fc2 = nn.Linear(hidden_size, output_size, bias=False)\n",
    "        \n",
    "    def forward(self, x):\n",
    "        out = self.fc1(x)\n",
    "        out = self.relu(out)\n",
    "        out = self.fc2(out)\n",
    "        return out"
   ]
  },
  {
   "cell_type": "markdown",
   "metadata": {},
   "source": [
    "## 2. 加载数据集"
   ]
  },
  {
   "cell_type": "code",
   "execution_count": null,
   "metadata": {},
   "outputs": [],
   "source": [
    "# 数据预处理\n",
    "transform = transforms.Compose([\n",
    "    transforms.ToTensor(),\n",
    "    transforms.Normalize((0.1307,), (0.3081,))  # MNIST的均值和标准差\n",
    "])\n",
    "\n",
    "# 加载数据集\n",
    "kwargs = {'num_workers': 4, 'pin_memory': True}\n",
    "try:\n",
    "    # 尝试使用用户本地路径\n",
    "    data_path = os.path.join(os.getcwd(), 'data')\n",
    "    train_dataset = datasets.MNIST(root=data_path, train=True, transform=transform, download=True)\n",
    "except Exception as e:\n",
    "    print(f\"加载数据出错: {e}\")\n",
    "    print(\"尝试使用默认路径...\")\n",
    "    train_dataset = datasets.MNIST(root='./data', train=True, transform=transform, download=True)\n",
    "\n",
    "# 创建数据加载器\n",
    "train_loader = DataLoader(dataset=train_dataset, batch_size=60000, shuffle=False, **kwargs)\n",
    "\n",
    "# 模型参数\n",
    "input_size = 784  # 28x28\n",
    "hidden_size = 5\n",
    "output_size = 10  # 0-9的数字"
   ]
  },
  {
   "cell_type": "markdown",
   "metadata": {},
   "source": [
    "## 3. 加载预训练模型"
   ]
  },
  {
   "cell_type": "markdown",
   "id": "9b3a4fa8",
   "metadata": {},
   "source": []
  },
  {
   "cell_type": "code",
   "execution_count": null,
   "metadata": {},
   "outputs": [],
   "source": [
    "# 创建模型\n",
    "model = MLP(input_size, hidden_size, output_size)\n",
    "\n",
    "# 尝试加载预训练模型\n",
    "print(\"尝试加载预训练模型...\")\n",
    "try:\n",
    "    script_dir = os.getcwd()\n",
    "    ckpt_dir = \"bs256_lr0.05_e30_hidden5_SGD_m0.9_seed0\"\n",
    "    model_path = f\"{script_dir}/trained_MLP/{ckpt_dir}/model_para_e_0.1_decaying_2.0_pipecheck_w.pt\"\n",
    "    \n",
    "    state_dict = torch.load(model_path, map_location=torch.device('cpu'))\n",
    "    model.load_state_dict(state_dict['state_dict'])\n",
    "    print(f\"成功加载模型: {model_path}\")\n",
    "except Exception as e:\n",
    "    print(f\"加载模型失败: {e}\")\n",
    "    print(\"使用随机初始化的模型继续...\")\n",
    "\n",
    "# 将模型移至GPU\n",
    "model = model.cuda()\n",
    "criterion = nn.CrossEntropyLoss()"
   ]
  },
  {
   "cell_type": "markdown",
   "metadata": {},
   "source": [
    "## 4. 定义Hessian计算函数"
   ]
  },
  {
   "cell_type": "code",
   "execution_count": null,
   "metadata": {},
   "outputs": [],
   "source": [
    "def compute_hessian(dataloader, model, criterion):\n",
    "    \"\"\"\n",
    "    计算模型在给定数据集上的Hessian矩阵\n",
    "    \n",
    "    参数:\n",
    "    - dataloader: 数据加载器\n",
    "    - model: 神经网络模型\n",
    "    - criterion: 损失函数\n",
    "    \n",
    "    返回:\n",
    "    - hessian: Hessian矩阵\n",
    "    - gradient: 梯度向量\n",
    "    \"\"\"\n",
    "    print(\"Step 1: 开始计算Hessian矩阵...\")\n",
    "    start_time = time.time()\n",
    "    \n",
    "    model.eval()\n",
    "    model.zero_grad(set_to_none=True)\n",
    "    \n",
    "    # 内部函数：计算Hessian矩阵的一行\n",
    "    def compute_hessian_row(g_tensor):\n",
    "        g_tensor = g_tensor.cuda()\n",
    "        total_params = g_tensor.size(0)\n",
    "        hessian_list = []\n",
    "        \n",
    "        for d in range(total_params):\n",
    "            # 创建单位向量\n",
    "            unit_vector = torch.zeros(total_params)\n",
    "            unit_vector[d] = 1\n",
    "            unit_vector = unit_vector.cuda()\n",
    "            \n",
    "            # 计算梯度的方向导数\n",
    "            l = torch.sum(g_tensor * unit_vector)\n",
    "            l.backward(retain_graph=True)\n",
    "            \n",
    "            # 收集Hessian的一行\n",
    "            hessian_row = []\n",
    "            for name, param in model.named_parameters():\n",
    "                if 'ln' in name or 'bias' in name or 'wte' in name or 'wpe' in name:\n",
    "                    continue\n",
    "                if param.requires_grad:\n",
    "                    hessian_row.append(param.grad.double().data.clone())\n",
    "            \n",
    "            model.zero_grad(set_to_none=True)\n",
    "            hessian_row = [g.flatten() for g in hessian_row]\n",
    "            hessian_row = [g.cpu() for g in hessian_row]\n",
    "            hessian_row = torch.cat(hessian_row)\n",
    "            \n",
    "            hessian_list.append(hessian_row)\n",
    "            \n",
    "            # 打印进度\n",
    "            if d % 500 == 0 and d > 0:\n",
    "                print(f\"  计算Hessian: 已完成 {d}/{total_params} 行, 用时 {time.time() - start_time:.2f}秒\")\n",
    "                \n",
    "        hessian = torch.stack(hessian_list, dim=1)\n",
    "        return hessian\n",
    "    \n",
    "    # 计算完整的Hessian矩阵\n",
    "    full_hessian = 0\n",
    "    for images, labels in dataloader:\n",
    "        labels = labels.cuda()\n",
    "        images = images.reshape(-1, 28 * 28).cuda()\n",
    "        outputs = model(images)\n",
    "        loss = criterion(outputs, labels)\n",
    "        \n",
    "        # 缩放损失并计算梯度\n",
    "        scaled_loss = loss / len(dataloader)\n",
    "        scaled_loss.backward(create_graph=True)\n",
    "        \n",
    "        # 收集梯度\n",
    "        g_list = []\n",
    "        for name, param in model.named_parameters():\n",
    "            if 'ln' in name or 'bias' in name or 'wte' in name or 'wpe' in name:\n",
    "                continue\n",
    "            if param.requires_grad:\n",
    "                g_list.append(torch.flatten(param.grad.double()))\n",
    "        \n",
    "        g_tensor = torch.cat(g_list, dim=0)\n",
    "        model.zero_grad(set_to_none=True)\n",
    "        \n",
    "        # 计算Hessian矩阵\n",
    "        H = compute_hessian_row(g_tensor)\n",
    "        full_hessian += H\n",
    "    \n",
    "    # 处理数值问题\n",
    "    full_hessian = torch.nan_to_num(full_hessian, nan=0, posinf=0, neginf=0)\n",
    "    \n",
    "    # 确保Hessian矩阵是对称的\n",
    "    full_hessian = full_hessian.numpy().astype(np.float64)\n",
    "    full_hessian = (full_hessian + full_hessian.T) / 2\n",
    "    \n",
    "    print(f\"Hessian矩阵计算完成，用时 {time.time() - start_time:.2f}秒\")\n",
    "    return full_hessian, g_tensor"
   ]
  },
  {
   "cell_type": "markdown",
   "metadata": {},
   "source": [
    "## 5. 定义SVD计算特征值函数"
   ]
  },
  {
   "cell_type": "code",
   "execution_count": null,
   "metadata": {},
   "outputs": [],
   "source": [
    "def compute_eigenvalues_svd(hessian):\n",
    "    \"\"\"\n",
    "    通过SVD分解计算Hessian矩阵的特征值\n",
    "    \n",
    "    参数:\n",
    "    - hessian: Hessian矩阵\n",
    "    \n",
    "    返回:\n",
    "    - eigenvalues: 特征值\n",
    "    - u: 左奇异向量\n",
    "    - v: 右奇异向量\n",
    "    \"\"\"\n",
    "    print(\"\\nStep 2: 开始通过SVD计算特征值...\")\n",
    "    start_time = time.time()\n",
    "    \n",
    "    # 将Hessian矩阵转换为PyTorch张量并移至GPU\n",
    "    hessian_tensor = torch.tensor(hessian).cuda()\n",
    "    \n",
    "    # 执行SVD分解\n",
    "    u, sigma, v = torch.svd(hessian_tensor)\n",
    "    \n",
    "    print(f\"SVD分解完成，用时 {time.time() - start_time:.2f}秒\")\n",
    "    print(f\"特征值形状: {sigma.shape}\")\n",
    "    \n",
    "    # 打印前10个最大的特征值\n",
    "    print(\"\\n前10个最大的特征值:\")\n",
    "    for i, val in enumerate(sigma[:10]):\n",
    "        print(f\"  λ_{i+1} = {val.item():.6f}\")\n",
    "    \n",
    "    return sigma, u, v"
   ]
  },
  {
   "cell_type": "markdown",
   "metadata": {},
   "source": [
    "## 6. 执行Hessian计算和SVD分解"
   ]
  },
  {
   "cell_type": "code",
   "execution_count": null,
   "metadata": {},
   "outputs": [],
   "source": [
    "# 计算Hessian矩阵\n",
    "hessian, gradient = compute_hessian(train_loader, model, criterion)"
   ]
  },
  {
   "cell_type": "code",
   "execution_count": null,
   "metadata": {},
   "outputs": [],
   "source": [
    "# 计算特征值\n",
    "eigenvalues, u, v = compute_eigenvalues_svd(hessian)"
   ]
  },
  {
   "cell_type": "markdown",
   "metadata": {},
   "source": [
    "## 7. 计算Rayleigh商和可视化结果"
   ]
  },
  {
   "cell_type": "code",
   "execution_count": null,
   "metadata": {},
   "outputs": [],
   "source": [
    "# 计算Rayleigh商 (g^T H g) / ||g||^2\n",
    "gradient_cuda = gradient.cuda()\n",
    "hessian_cuda = torch.tensor(hessian).cuda()\n",
    "rayleigh = torch.matmul(gradient_cuda.reshape(-1,1).T, \n",
    "                       torch.matmul(hessian_cuda, \n",
    "                                  gradient_cuda.reshape(-1,1))) / torch.norm(gradient_cuda)**2\n",
    "\n",
    "print(f\"\\nRayleigh商 (g^T H g) / ||g||^2 = {rayleigh.item():.6f}\")"
   ]
  },
  {
   "cell_type": "code",
   "execution_count": null,
   "metadata": {},
   "outputs": [],
   "source": [
    "# 可视化特征值分布\n",
    "plt.figure(figsize=(10, 6))\n",
    "\n",
    "# 绘制特征值分布\n",
    "eigenvalues_cpu = eigenvalues.cpu().numpy()\n",
    "plt.semilogy(range(1, len(eigenvalues_cpu) + 1), eigenvalues_cpu, 'bo-')\n",
    "plt.axhline(y=rayleigh.item(), color='r', linestyle='--', label=f'Rayleigh商: {rayleigh.item():.4f}')\n",
    "\n",
    "plt.title('Hessian矩阵特征值分布 (对数尺度)')\n",
    "plt.xlabel('特征值索引')\n",
    "plt.ylabel('特征值大小 (对数尺度)')\n",
    "plt.grid(True)\n",
    "plt.legend()\n",
    "plt.tight_layout()\n",
    "plt.show()"
   ]
  },
  {
   "cell_type": "code",
   "execution_count": null,
   "metadata": {},
   "outputs": [],
   "source": [
    "# 可视化前100个特征值\n",
    "plt.figure(figsize=(10, 6))\n",
    "\n",
    "# 绘制前100个特征值\n",
    "top_n = 100\n",
    "plt.plot(range(1, min(top_n, len(eigenvalues_cpu)) + 1), eigenvalues_cpu[:top_n], 'go-')\n",
    "plt.axhline(y=rayleigh.item(), color='r', linestyle='--', label=f'Rayleigh商: {rayleigh.item():.4f}')\n",
    "\n",
    "plt.title(f'Hessian矩阵前{top_n}个特征值')\n",
    "plt.xlabel('特征值索引')\n",
    "plt.ylabel('特征值大小')\n",
    "plt.grid(True)\n",
    "plt.legend()\n",
    "plt.tight_layout()\n",
    "plt.show()"
   ]
  }
 ],
 "metadata": {
  "kernelspec": {
   "display_name": "Python 3",
   "language": "python",
   "name": "python3"
  },
  "language_info": {
   "codemirror_mode": {
    "name": "ipython",
    "version": 3
   },
   "file_extension": ".py",
   "mimetype": "text/x-python",
   "name": "python",
   "nbconvert_exporter": "python",
   "pygments_lexer": "ipython3",
   "version": "3.8.10"
  }
 },
 "nbformat": 4,
 "nbformat_minor": 5
}
